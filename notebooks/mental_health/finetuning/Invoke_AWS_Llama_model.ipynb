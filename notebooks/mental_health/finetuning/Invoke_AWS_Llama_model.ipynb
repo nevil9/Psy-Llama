{
 "cells": [
  {
   "cell_type": "code",
   "execution_count": 1,
   "id": "e9bed072-a50c-4022-bbd1-c4500dfb4526",
   "metadata": {},
   "outputs": [],
   "source": [
    "import os\n",
    "\n",
    "os.environ[\"AWS_ACCESS_KEY_ID\"] = \"YOUR KEY\"\n",
    "os.environ[\"AWS_SECRET_ACCESS_KEY\"] = \"YOUR KEY\""
   ]
  },
  {
   "cell_type": "code",
   "execution_count": 3,
   "id": "992aa87c-95b8-4856-acf5-aeb65ff21b0a",
   "metadata": {},
   "outputs": [
    {
     "name": "stdout",
     "output_type": "stream",
     "text": [
      "Here are some name suggestions for your mental health chatbot venture using Llama 3 models:\n",
      "\n",
      "1. **MindPal**: A friendly companion for mental wellness.\n",
      "2. **LlamaCare**: Emphasizing the caring aspect of your chatbot.\n",
      "3. **MentalMate**: A trusted friend for mental health support.\n",
      "4. **TalkToMe**: Encouraging users to open up and talk about their feelings.\n",
      "5. **SanityBot**: A playful name that acknowledges the importance of mental health.\n",
      "6. **Cerebro**: Derived from the Latin word for \"brain,\" conveying a focus on mental well-being.\n",
      "7. **MindWave**: Suggesting a soothing, supportive conversation.\n",
      "8. **HopeHub**: A name that conveys a sense of optimism and support.\n",
      "9. **ThoughtPartner**: Emphasizing the collaborative aspect of your chatbot.\n",
      "10. **EmoTract**: A name that acknowledges the emotional aspect of mental health.\n",
      "11. **ListenUp**: Encouraging users to share their thoughts and feelings.\n",
      "12. **MindScape**: A name that evokes a sense of exploration and self-discovery.\n",
      "13. **CalmConnect**: Suggesting a soothing, supportive conversation.\n",
      "14. **ThoughtBridge**: A name that conveys connection and understanding.\n",
      "15. **MentalMend**: A playful name that acknowledges the importance of mental health maintenance.\n",
      "\n",
      "Choose a name that resonates with your vision and values, and don't hesitate to modify or combine these suggestions to best fit your brand identity. Good luck with your venture!\n"
     ]
    }
   ],
   "source": [
    "\n",
    "\n",
    "# step 1 \n",
    "!sudo pip install awscli --force-reinstall --upgrade\n",
    "\n",
    "# step 2 \n",
    "# provide access key and secret key \n",
    "\n",
    "# step 3 \n",
    "# hit the model with <model id>\n",
    "\n",
    "import boto3\n",
    "import json\n",
    "\n",
    "from botocore.exceptions import ClientError\n",
    "\n",
    "client = boto3.client(\"bedrock-runtime\", region_name=\"us-west-2\")\n",
    "\n",
    "model_id = \"meta.llama3-70b-instruct-v1:0\"\n",
    "\n",
    "prompt = \"We are building a chatbot for mental health using Llama 3 models. Suggest some good names for our venture.\"\n",
    "\n",
    "formatted_prompt = f\"\"\"\n",
    "<|begin_of_text|><|start_header_id|>user<|end_header_id|>\n",
    "{prompt}\n",
    "<|eot_id|>\n",
    "<|start_header_id|>assistant<|end_header_id|>\n",
    "\"\"\"\n",
    "\n",
    "# Format the request payload using the model's native structure.\n",
    "native_request = {\n",
    "    \"prompt\": formatted_prompt,\n",
    "    \"max_gen_len\": 512,\n",
    "    \"temperature\": 0.5,\n",
    "}\n",
    "\n",
    "request = json.dumps(native_request)\n",
    "\n",
    "try:\n",
    "    response = client.invoke_model(modelId=model_id, body=request)\n",
    "\n",
    "except (ClientError, Exception) as e:\n",
    "    print(f\"ERROR: Can't invoke '{model_id}'. Reason: {e}\")\n",
    "    exit(1)\n",
    "\n",
    "model_response = json.loads(response[\"body\"].read())\n",
    "\n",
    "response_text = model_response[\"generation\"]\n",
    "print(response_text)\n",
    "\n"
   ]
  },
  {
   "cell_type": "code",
   "execution_count": 1,
   "id": "3d22b574-acfd-40dc-aa54-c263918e06a5",
   "metadata": {},
   "outputs": [],
   "source": [
    "import dspy\n",
    "\n",
    "bedrock_haiku = dspy.AWSAnthropic(\n",
    "    aws_provider = dspy.Bedrock(region_name=\"us-west-2\"),\n",
    "    model=\"meta.llama3-70b-instruct-v1:0\",\n",
    ")\n",
    "dspy.configure(lm=bedrock_haiku)"
   ]
  },
  {
   "cell_type": "code",
   "execution_count": null,
   "id": "2b0800ba-8ab7-40a3-bd75-a7623380deeb",
   "metadata": {},
   "outputs": [],
   "source": []
  }
 ],
 "metadata": {
  "kernelspec": {
   "display_name": "Python 3 (ipykernel)",
   "language": "python",
   "name": "python3"
  },
  "language_info": {
   "codemirror_mode": {
    "name": "ipython",
    "version": 3
   },
   "file_extension": ".py",
   "mimetype": "text/x-python",
   "name": "python",
   "nbconvert_exporter": "python",
   "pygments_lexer": "ipython3",
   "version": "3.11.10"
  }
 },
 "nbformat": 4,
 "nbformat_minor": 5
}
